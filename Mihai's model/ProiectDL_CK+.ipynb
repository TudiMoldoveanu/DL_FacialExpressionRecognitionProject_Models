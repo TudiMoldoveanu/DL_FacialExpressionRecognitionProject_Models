{
  "nbformat": 4,
  "nbformat_minor": 0,
  "metadata": {
    "colab": {
      "provenance": [],
      "gpuType": "T4"
    },
    "kernelspec": {
      "name": "python3",
      "display_name": "Python 3"
    },
    "language_info": {
      "name": "python"
    },
    "accelerator": "GPU"
  },
  "cells": [
    {
      "cell_type": "code",
      "source": [
        "from google.colab import drive\n",
        "drive.mount('/content/drive')"
      ],
      "metadata": {
        "colab": {
          "base_uri": "https://localhost:8080/"
        },
        "id": "VGxBrCpcpKXl",
        "outputId": "7fd93c6c-780e-4e16-edf8-3369cb8f03bf"
      },
      "execution_count": null,
      "outputs": [
        {
          "output_type": "stream",
          "name": "stdout",
          "text": [
            "Mounted at /content/drive\n"
          ]
        }
      ]
    },
    {
      "cell_type": "code",
      "source": [
        "import torch\n",
        "import torch.nn as nn\n",
        "import torch.nn.functional as F\n",
        "from torchvision import datasets, transforms\n",
        "from torchvision.transforms import v2\n",
        "\n",
        "import os\n",
        "import pandas as pd\n",
        "from torchvision.io import read_image\n",
        "\n",
        "import numpy as np\n",
        "import matplotlib.pyplot as plt\n",
        "from typing import Tuple, List\n",
        "\n",
        "if torch.cuda.is_available():\n",
        "    device = torch.device('cuda')\n",
        "else:\n",
        "    device = torch.device('cpu')\n",
        "print('Using PyTorch version:', torch.__version__, ' Device:', device)"
      ],
      "metadata": {
        "colab": {
          "base_uri": "https://localhost:8080/"
        },
        "id": "7M2lwQu2tyrA",
        "outputId": "77e6cc6a-dd01-470e-9a7c-c5ab00ee869e"
      },
      "execution_count": null,
      "outputs": [
        {
          "output_type": "stream",
          "name": "stdout",
          "text": [
            "Using PyTorch version: 2.1.0+cu121  Device: cuda\n"
          ]
        }
      ]
    },
    {
      "cell_type": "code",
      "source": [
        "dataset_path = '/content/drive/MyDrive/CKplus'\n",
        "label_dict = { 'anger': 0, 'contempt': 1, 'disgust': 2, 'fear': 3, 'happy': 4, 'sadness': 5, 'surprise': 6 }\n",
        "image_dict = dict()\n",
        "\n",
        "for root, dir, files in os.walk(dataset_path):\n",
        "  for name in files:\n",
        "    image_dict[os.path.join(root, name)] = label_dict[os.path.basename(root)]\n",
        "\n",
        "df = pd.DataFrame.from_dict(image_dict, orient='index')\n",
        "df.reset_index(inplace=True)"
      ],
      "metadata": {
        "id": "cDtmGYMXvIiU"
      },
      "execution_count": null,
      "outputs": []
    },
    {
      "cell_type": "code",
      "source": [
        "class CustomImageDataset(torch.utils.data.Dataset):\n",
        "    def __init__(self, data_frame, img_dir, transform=None, target_transform=None):\n",
        "        self.data_frame = data_frame\n",
        "        self.img_dir = img_dir\n",
        "        self.transform = transform\n",
        "        self.target_transform = target_transform\n",
        "\n",
        "    def __len__(self):\n",
        "        return len(self.data_frame)\n",
        "\n",
        "    def __getitem__(self, idx):\n",
        "        img_path = os.path.join(self.img_dir, self.data_frame.iloc[idx, 0])\n",
        "        image = read_image(img_path)\n",
        "        label = self.data_frame.iloc[idx, 1]\n",
        "        if self.transform:\n",
        "            image = self.transform(image)\n",
        "        if self.target_transform:\n",
        "            label = self.target_transform(label)\n",
        "        return image, label"
      ],
      "metadata": {
        "id": "X83RG7_KrhA4"
      },
      "execution_count": null,
      "outputs": []
    },
    {
      "cell_type": "code",
      "source": [
        "batch_size = 32\n",
        "\n",
        "train_augmentations = transforms.v2.Compose([\n",
        "                                          transforms.v2.RandomCrop(32, padding=4),\n",
        "                                          transforms.v2.RandomHorizontalFlip(),\n",
        "                                          #transforms.ToTensor(),\n",
        "                                          transforms.v2.ToDtype(torch.float32, scale=True),\n",
        "                                          transforms.v2.Normalize((0.4914, 0.4822, 0.4465), (0.2023, 0.1994, 0.2010))\n",
        "                                         ])\n",
        "\n",
        "test_augmentations = transforms.v2.Compose([\n",
        "                                        #transforms.ToTensor(),\n",
        "                                        transforms.v2.ToDtype(torch.float32, scale=True),\n",
        "                                        transforms.v2.Normalize((0.4914, 0.4822, 0.4465), (0.2023, 0.1994, 0.2010))]\n",
        "                                       )\n",
        "\n",
        "dataset = CustomImageDataset(df, dataset_path, train_augmentations)\n",
        "\n",
        "train_set, test_set = torch.utils.data.random_split(dataset, lengths=[0.7, 0.3])\n"
      ],
      "metadata": {
        "id": "Nfg2WQLJuNhp"
      },
      "execution_count": null,
      "outputs": []
    },
    {
      "cell_type": "code",
      "source": [
        "train_loader = torch.utils.data.DataLoader(dataset=train_set,\n",
        "                                           batch_size=batch_size,\n",
        "                                           shuffle=True,\n",
        "                                           num_workers=2,\n",
        "                                           pin_memory=True\n",
        "                                           )\n",
        "\n",
        "test_loader = torch.utils.data.DataLoader(dataset=test_set,\n",
        "                                          batch_size=batch_size,\n",
        "                                          shuffle=False,\n",
        "                                          num_workers=2,\n",
        "                                          pin_memory=True\n",
        "                                          )"
      ],
      "metadata": {
        "id": "oLHJJJXyuTNs"
      },
      "execution_count": null,
      "outputs": []
    },
    {
      "cell_type": "code",
      "source": [
        "@torch.no_grad()\n",
        "def test(\n",
        "        model: nn.Module,\n",
        "        criterion: nn.CrossEntropyLoss,\n",
        "        loader: torch.utils.data.DataLoader,\n",
        "        device: torch.device\n",
        ") -> Tuple[float, float]:\n",
        "    model.eval()\n",
        "    accuracy, test_loss = 0, 0\n",
        "    for x, y in loader:\n",
        "        x, y = x.to(device), y.to(device)\n",
        "        y_hat = model(x)\n",
        "        test_loss += criterion(y_hat, y).item() * x.shape[0]\n",
        "        _, predicted = torch.max(y_hat, axis=1)\n",
        "        accuracy += (predicted == y).sum().item()\n",
        "    accuracy /= len(loader.dataset)\n",
        "    test_loss /= len(loader.dataset)\n",
        "    return accuracy, test_loss"
      ],
      "metadata": {
        "id": "_HjchXLvuak_"
      },
      "execution_count": null,
      "outputs": []
    },
    {
      "cell_type": "code",
      "source": [
        "def plot(x_epochs, train_loss, test_loss, test_acc):\n",
        "    plt.title('Loss curves')\n",
        "    plt.plot(x_epochs, train_loss, 'red', label='Train loss')\n",
        "    plt.plot(x_epochs, test_loss, 'green', label='Test loss')\n",
        "    plt.legend(loc='best')\n",
        "    plt.show()\n",
        "\n",
        "    plt.title('Test accuracy')\n",
        "    plt.plot(x_epochs, test_acc)\n",
        "    plt.show()"
      ],
      "metadata": {
        "id": "Nvhhg-nAud9N"
      },
      "execution_count": null,
      "outputs": []
    },
    {
      "cell_type": "code",
      "source": [
        "def train(model: nn.Module,\n",
        "          epochs: int,\n",
        "          criterion: nn.CrossEntropyLoss,\n",
        "          scheduler,\n",
        "          train_loader: torch.utils.data.DataLoader,\n",
        "          test_loader: torch.utils.data.DataLoader,\n",
        "          device: torch.device) -> float:\n",
        "    train_losses = []\n",
        "    test_accuracies = []\n",
        "    test_losses = []\n",
        "    test_accuracy_untrained, test_loss_untrained = test(model, criterion, test_loader, device)\n",
        "    print(f'On untrained model, test set: acc={test_accuracy_untrained*100:.2f}, loss={test_loss_untrained:.4f}')\n",
        "\n",
        "    for epoch in range(1, epochs + 1):\n",
        "        model.train()\n",
        "        running_train_loss = 0\n",
        "        for x, y in train_loader:\n",
        "            x, y = x.to(device), y.to(device)\n",
        "            y_hat = model(x)\n",
        "            loss = criterion(y_hat, y)\n",
        "            running_train_loss += loss.item() * x.shape[0]\n",
        "\n",
        "            model.zero_grad()\n",
        "            loss.backward()\n",
        "            optimizer.step()\n",
        "\n",
        "        scheduler.step()\n",
        "        train_losses.append(running_train_loss / len(train_loader.dataset))\n",
        "        test_accuracy, test_loss = test(model, criterion, test_loader, device)\n",
        "        print(f'Epoch {epoch}/{epochs}, train set: loss={train_losses[-1]:.4f}')\n",
        "        print(f'Epoch {epoch}/{epochs}, test set: acc={test_accuracy*100:.2f}%, loss={test_loss:.4f}')\n",
        "        test_losses.append(test_loss)\n",
        "        test_accuracies.append(test_accuracy)\n",
        "    x_epochs = list(range(1, epochs+1))\n",
        "    plot(x_epochs, train_losses, test_losses, test_accuracies)\n",
        "    return test_accuracies[-1]"
      ],
      "metadata": {
        "id": "zQGTiPSwufhY"
      },
      "execution_count": null,
      "outputs": []
    },
    {
      "cell_type": "code",
      "source": [
        "\n",
        "class SimpleNet(nn.Module):\n",
        "    def __init__(self, classes=10):\n",
        "        super(SimpleNet, self).__init__()\n",
        "        self.features = self._make_layers()\n",
        "        self.classifier = nn.Linear(300, classes)\n",
        "        self.drp = nn.Dropout(0.1)\n",
        "\n",
        "\n",
        "    def forward(self, x):\n",
        "        out = self.features(x)\n",
        "\n",
        "        out = F.max_pool2d(out, kernel_size=out.size()[2:])\n",
        "        out = self.drp(out)\n",
        "\n",
        "        out = out.view(out.size(0), -1)\n",
        "        out = self.classifier(out)\n",
        "        return out\n",
        "\n",
        "    def _make_layers(self):\n",
        "\n",
        "        model = nn.Sequential(\n",
        "                             nn.Conv2d(3, 64, kernel_size=[3, 3], stride=(1, 1), padding=(1, 1)),\n",
        "                             nn.BatchNorm2d(64, eps=1e-05, momentum=0.05, affine=True),\n",
        "                             nn.ReLU(inplace=True),\n",
        "\n",
        "                             nn.Conv2d(64, 128, kernel_size=[3, 3], stride=(1, 1), padding=(1, 1)),\n",
        "                             nn.BatchNorm2d(128, eps=1e-05, momentum=0.05, affine=True),\n",
        "                             nn.ReLU(inplace=True),\n",
        "\n",
        "                             nn.Conv2d(128, 128, kernel_size=[3, 3], stride=(1, 1), padding=(1, 1)),\n",
        "                             nn.BatchNorm2d(128, eps=1e-05, momentum=0.05, affine=True),\n",
        "                             nn.ReLU(inplace=True),\n",
        "\n",
        "                             nn.Conv2d(128, 128, kernel_size=[3, 3], stride=(1, 1), padding=(1, 1)),\n",
        "                             nn.BatchNorm2d(128, eps=1e-05, momentum=0.05, affine=True),\n",
        "                             nn.ReLU(inplace=True),\n",
        "\n",
        "\n",
        "                             nn.MaxPool2d(kernel_size=(2, 2), stride=(2, 2), dilation=(1, 1), ceil_mode=False),\n",
        "                             nn.Dropout2d(p=0.12),\n",
        "\n",
        "\n",
        "                             nn.Conv2d(128, 128, kernel_size=[3, 3], stride=(1, 1), padding=(1, 1)),\n",
        "                             nn.BatchNorm2d(128, eps=1e-05, momentum=0.05, affine=True),\n",
        "                             nn.ReLU(inplace=True),\n",
        "\n",
        "                             nn.Conv2d(128, 128, kernel_size=[3, 3], stride=(1, 1), padding=(1, 1)),\n",
        "                             nn.BatchNorm2d(128, eps=1e-05, momentum=0.05, affine=True),\n",
        "                             nn.ReLU(inplace=True),\n",
        "\n",
        "                             nn.Conv2d(128, 256, kernel_size=[3, 3], stride=(1, 1), padding=(1, 1)),\n",
        "                             nn.BatchNorm2d(256, eps=1e-05, momentum=0.05, affine=True),\n",
        "                             nn.ReLU(inplace=True),\n",
        "\n",
        "\n",
        "\n",
        "                             nn.MaxPool2d(kernel_size=(2, 2), stride=(2, 2), dilation=(1, 1), ceil_mode=False),\n",
        "                             nn.Dropout2d(p=0.1),\n",
        "\n",
        "\n",
        "                             nn.Conv2d(256, 256, kernel_size=[3, 3], stride=(1, 1), padding=(1, 1)),\n",
        "                             nn.BatchNorm2d(256, eps=1e-05, momentum=0.05, affine=True),\n",
        "                             nn.ReLU(inplace=True),\n",
        "\n",
        "\n",
        "                             nn.Conv2d(256, 256, kernel_size=[3, 3], stride=(1, 1), padding=(1, 1)),\n",
        "                             nn.BatchNorm2d(256, eps=1e-05, momentum=0.05, affine=True),\n",
        "                             nn.ReLU(inplace=True),\n",
        "\n",
        "\n",
        "\n",
        "                             nn.MaxPool2d(kernel_size=(2, 2), stride=(2, 2), dilation=(1, 1), ceil_mode=False),\n",
        "                             nn.Dropout2d(p=0.1),\n",
        "\n",
        "\n",
        "\n",
        "                             nn.Conv2d(256, 512, kernel_size=[3, 3], stride=(1, 1), padding=(1, 1)),\n",
        "                             nn.BatchNorm2d(512, eps=1e-05, momentum=0.05, affine=True),\n",
        "                             nn.ReLU(inplace=True),\n",
        "\n",
        "\n",
        "\n",
        "                             nn.MaxPool2d(kernel_size=(2, 2), stride=(2, 2), dilation=(1, 1), ceil_mode=False),\n",
        "                             nn.Dropout2d(p=0.1),\n",
        "\n",
        "\n",
        "                             nn.Conv2d(512, 2048, kernel_size=[1, 1], stride=(1, 1), padding=(0, 0)),\n",
        "                             nn.BatchNorm2d(2048, eps=1e-05, momentum=0.05, affine=True),\n",
        "                             nn.ReLU(inplace=True),\n",
        "\n",
        "\n",
        "\n",
        "                             nn.Conv2d(2048, 300, kernel_size=[1, 1], stride=(1, 1), padding=(0, 0)),\n",
        "                             nn.BatchNorm2d(300, eps=1e-05, momentum=0.05, affine=True),\n",
        "                             nn.ReLU(inplace=True),\n",
        "\n",
        "\n",
        "                             nn.MaxPool2d(kernel_size=(2, 2), stride=(2, 2), dilation=(1, 1), ceil_mode=False),\n",
        "                             nn.Dropout2d(p=0.1),\n",
        "\n",
        "\n",
        "                             nn.Conv2d(300, 300, kernel_size=[3, 3], stride=(1, 1), padding=(1, 1)),\n",
        "                             nn.BatchNorm2d(300, eps=1e-05, momentum=0.05, affine=True),\n",
        "                             nn.ReLU(inplace=True),\n",
        "\n",
        "                            )\n",
        "\n",
        "        for m in model.modules():\n",
        "          if isinstance(m, nn.Conv2d):\n",
        "            nn.init.xavier_uniform_(m.weight.data, gain=nn.init.calculate_gain('relu'))\n",
        "\n",
        "        return model"
      ],
      "metadata": {
        "id": "l1XzXWUpbJ6i"
      },
      "execution_count": null,
      "outputs": []
    },
    {
      "cell_type": "code",
      "source": [
        "model = SimpleNet(classes=7)\n",
        "model.to(device)\n"
      ],
      "metadata": {
        "id": "BgSkwWUoumcX",
        "colab": {
          "base_uri": "https://localhost:8080/"
        },
        "outputId": "d52fe088-ce5d-4923-8af2-800ffcd12b74"
      },
      "execution_count": null,
      "outputs": [
        {
          "output_type": "execute_result",
          "data": {
            "text/plain": [
              "SimpleNet(\n",
              "  (features): Sequential(\n",
              "    (0): Conv2d(3, 64, kernel_size=(3, 3), stride=(1, 1), padding=(1, 1))\n",
              "    (1): BatchNorm2d(64, eps=1e-05, momentum=0.05, affine=True, track_running_stats=True)\n",
              "    (2): ReLU(inplace=True)\n",
              "    (3): Conv2d(64, 128, kernel_size=(3, 3), stride=(1, 1), padding=(1, 1))\n",
              "    (4): BatchNorm2d(128, eps=1e-05, momentum=0.05, affine=True, track_running_stats=True)\n",
              "    (5): ReLU(inplace=True)\n",
              "    (6): Conv2d(128, 128, kernel_size=(3, 3), stride=(1, 1), padding=(1, 1))\n",
              "    (7): BatchNorm2d(128, eps=1e-05, momentum=0.05, affine=True, track_running_stats=True)\n",
              "    (8): ReLU(inplace=True)\n",
              "    (9): Conv2d(128, 128, kernel_size=(3, 3), stride=(1, 1), padding=(1, 1))\n",
              "    (10): BatchNorm2d(128, eps=1e-05, momentum=0.05, affine=True, track_running_stats=True)\n",
              "    (11): ReLU(inplace=True)\n",
              "    (12): MaxPool2d(kernel_size=(2, 2), stride=(2, 2), padding=0, dilation=(1, 1), ceil_mode=False)\n",
              "    (13): Dropout2d(p=0.12, inplace=False)\n",
              "    (14): Conv2d(128, 128, kernel_size=(3, 3), stride=(1, 1), padding=(1, 1))\n",
              "    (15): BatchNorm2d(128, eps=1e-05, momentum=0.05, affine=True, track_running_stats=True)\n",
              "    (16): ReLU(inplace=True)\n",
              "    (17): Conv2d(128, 128, kernel_size=(3, 3), stride=(1, 1), padding=(1, 1))\n",
              "    (18): BatchNorm2d(128, eps=1e-05, momentum=0.05, affine=True, track_running_stats=True)\n",
              "    (19): ReLU(inplace=True)\n",
              "    (20): Conv2d(128, 256, kernel_size=(3, 3), stride=(1, 1), padding=(1, 1))\n",
              "    (21): BatchNorm2d(256, eps=1e-05, momentum=0.05, affine=True, track_running_stats=True)\n",
              "    (22): ReLU(inplace=True)\n",
              "    (23): MaxPool2d(kernel_size=(2, 2), stride=(2, 2), padding=0, dilation=(1, 1), ceil_mode=False)\n",
              "    (24): Dropout2d(p=0.1, inplace=False)\n",
              "    (25): Conv2d(256, 256, kernel_size=(3, 3), stride=(1, 1), padding=(1, 1))\n",
              "    (26): BatchNorm2d(256, eps=1e-05, momentum=0.05, affine=True, track_running_stats=True)\n",
              "    (27): ReLU(inplace=True)\n",
              "    (28): Conv2d(256, 256, kernel_size=(3, 3), stride=(1, 1), padding=(1, 1))\n",
              "    (29): BatchNorm2d(256, eps=1e-05, momentum=0.05, affine=True, track_running_stats=True)\n",
              "    (30): ReLU(inplace=True)\n",
              "    (31): MaxPool2d(kernel_size=(2, 2), stride=(2, 2), padding=0, dilation=(1, 1), ceil_mode=False)\n",
              "    (32): Dropout2d(p=0.1, inplace=False)\n",
              "    (33): Conv2d(256, 512, kernel_size=(3, 3), stride=(1, 1), padding=(1, 1))\n",
              "    (34): BatchNorm2d(512, eps=1e-05, momentum=0.05, affine=True, track_running_stats=True)\n",
              "    (35): ReLU(inplace=True)\n",
              "    (36): MaxPool2d(kernel_size=(2, 2), stride=(2, 2), padding=0, dilation=(1, 1), ceil_mode=False)\n",
              "    (37): Dropout2d(p=0.1, inplace=False)\n",
              "    (38): Conv2d(512, 2048, kernel_size=(1, 1), stride=(1, 1))\n",
              "    (39): BatchNorm2d(2048, eps=1e-05, momentum=0.05, affine=True, track_running_stats=True)\n",
              "    (40): ReLU(inplace=True)\n",
              "    (41): Conv2d(2048, 300, kernel_size=(1, 1), stride=(1, 1))\n",
              "    (42): BatchNorm2d(300, eps=1e-05, momentum=0.05, affine=True, track_running_stats=True)\n",
              "    (43): ReLU(inplace=True)\n",
              "    (44): MaxPool2d(kernel_size=(2, 2), stride=(2, 2), padding=0, dilation=(1, 1), ceil_mode=False)\n",
              "    (45): Dropout2d(p=0.1, inplace=False)\n",
              "    (46): Conv2d(300, 300, kernel_size=(3, 3), stride=(1, 1), padding=(1, 1))\n",
              "    (47): BatchNorm2d(300, eps=1e-05, momentum=0.05, affine=True, track_running_stats=True)\n",
              "    (48): ReLU(inplace=True)\n",
              "  )\n",
              "  (classifier): Linear(in_features=300, out_features=7, bias=True)\n",
              "  (drp): Dropout(p=0.1, inplace=False)\n",
              ")"
            ]
          },
          "metadata": {},
          "execution_count": 12
        }
      ]
    },
    {
      "cell_type": "code",
      "execution_count": null,
      "metadata": {
        "colab": {
          "base_uri": "https://localhost:8080/",
          "height": 1000
        },
        "id": "U0wHWS491Ytc",
        "outputId": "ad183c27-1fb5-43f8-e96f-1c6d1b7cf852"
      },
      "outputs": [
        {
          "output_type": "stream",
          "name": "stdout",
          "text": [
            "On untrained model, test set: acc=14.97, loss=1.9290\n",
            "Epoch 1/50, train set: loss=1.8788\n",
            "Epoch 1/50, test set: acc=18.37%, loss=3.0278\n",
            "Epoch 2/50, train set: loss=1.6136\n",
            "Epoch 2/50, test set: acc=31.29%, loss=1.9284\n",
            "Epoch 3/50, train set: loss=1.4148\n",
            "Epoch 3/50, test set: acc=31.63%, loss=2.1477\n",
            "Epoch 4/50, train set: loss=1.3100\n",
            "Epoch 4/50, test set: acc=51.02%, loss=1.2240\n",
            "Epoch 5/50, train set: loss=1.1056\n",
            "Epoch 5/50, test set: acc=52.04%, loss=1.4616\n",
            "Epoch 6/50, train set: loss=1.0952\n",
            "Epoch 6/50, test set: acc=58.16%, loss=1.0878\n",
            "Epoch 7/50, train set: loss=1.0706\n",
            "Epoch 7/50, test set: acc=56.80%, loss=1.2265\n",
            "Epoch 8/50, train set: loss=0.9057\n",
            "Epoch 8/50, test set: acc=63.95%, loss=0.9585\n",
            "Epoch 9/50, train set: loss=0.8292\n",
            "Epoch 9/50, test set: acc=61.90%, loss=1.1250\n",
            "Epoch 10/50, train set: loss=0.8278\n",
            "Epoch 10/50, test set: acc=60.20%, loss=1.0848\n",
            "Epoch 11/50, train set: loss=0.7453\n",
            "Epoch 11/50, test set: acc=70.41%, loss=0.8063\n",
            "Epoch 12/50, train set: loss=0.6679\n",
            "Epoch 12/50, test set: acc=71.09%, loss=0.8177\n",
            "Epoch 13/50, train set: loss=0.7417\n",
            "Epoch 13/50, test set: acc=58.84%, loss=1.2537\n",
            "Epoch 14/50, train set: loss=0.6908\n",
            "Epoch 14/50, test set: acc=75.17%, loss=0.6637\n",
            "Epoch 15/50, train set: loss=0.5888\n",
            "Epoch 15/50, test set: acc=72.79%, loss=0.6876\n",
            "Epoch 16/50, train set: loss=0.5957\n",
            "Epoch 16/50, test set: acc=73.81%, loss=0.7411\n",
            "Epoch 17/50, train set: loss=0.6040\n",
            "Epoch 17/50, test set: acc=72.45%, loss=0.7334\n",
            "Epoch 18/50, train set: loss=0.5871\n",
            "Epoch 18/50, test set: acc=70.07%, loss=0.8626\n",
            "Epoch 19/50, train set: loss=0.6553\n",
            "Epoch 19/50, test set: acc=74.49%, loss=0.7219\n",
            "Epoch 20/50, train set: loss=0.5670\n",
            "Epoch 20/50, test set: acc=80.95%, loss=0.5664\n",
            "Epoch 21/50, train set: loss=0.5244\n",
            "Epoch 21/50, test set: acc=76.87%, loss=0.6519\n",
            "Epoch 22/50, train set: loss=0.4511\n",
            "Epoch 22/50, test set: acc=68.03%, loss=0.9209\n",
            "Epoch 23/50, train set: loss=0.4637\n",
            "Epoch 23/50, test set: acc=82.31%, loss=0.5277\n",
            "Epoch 24/50, train set: loss=0.4500\n",
            "Epoch 24/50, test set: acc=74.83%, loss=0.6827\n",
            "Epoch 25/50, train set: loss=0.5397\n",
            "Epoch 25/50, test set: acc=65.31%, loss=1.0386\n",
            "Epoch 26/50, train set: loss=0.5024\n",
            "Epoch 26/50, test set: acc=86.05%, loss=0.3875\n",
            "Epoch 27/50, train set: loss=0.3993\n",
            "Epoch 27/50, test set: acc=87.07%, loss=0.3774\n",
            "Epoch 28/50, train set: loss=0.3536\n",
            "Epoch 28/50, test set: acc=87.41%, loss=0.3566\n",
            "Epoch 29/50, train set: loss=0.3394\n",
            "Epoch 29/50, test set: acc=87.41%, loss=0.3481\n",
            "Epoch 30/50, train set: loss=0.2948\n",
            "Epoch 30/50, test set: acc=88.78%, loss=0.3491\n",
            "Epoch 31/50, train set: loss=0.3008\n",
            "Epoch 31/50, test set: acc=88.44%, loss=0.3212\n",
            "Epoch 32/50, train set: loss=0.2708\n",
            "Epoch 32/50, test set: acc=91.50%, loss=0.2948\n",
            "Epoch 33/50, train set: loss=0.2969\n",
            "Epoch 33/50, test set: acc=89.80%, loss=0.3178\n",
            "Epoch 34/50, train set: loss=0.2653\n",
            "Epoch 34/50, test set: acc=89.80%, loss=0.2932\n",
            "Epoch 35/50, train set: loss=0.2827\n",
            "Epoch 35/50, test set: acc=89.46%, loss=0.2778\n",
            "Epoch 36/50, train set: loss=0.2883\n",
            "Epoch 36/50, test set: acc=93.20%, loss=0.2213\n",
            "Epoch 37/50, train set: loss=0.2824\n",
            "Epoch 37/50, test set: acc=89.80%, loss=0.2654\n",
            "Epoch 38/50, train set: loss=0.2575\n",
            "Epoch 38/50, test set: acc=92.86%, loss=0.2577\n",
            "Epoch 39/50, train set: loss=0.2488\n",
            "Epoch 39/50, test set: acc=89.80%, loss=0.2886\n",
            "Epoch 40/50, train set: loss=0.2628\n",
            "Epoch 40/50, test set: acc=93.88%, loss=0.2369\n",
            "Epoch 41/50, train set: loss=0.2375\n",
            "Epoch 41/50, test set: acc=93.20%, loss=0.2125\n",
            "Epoch 42/50, train set: loss=0.2363\n",
            "Epoch 42/50, test set: acc=92.86%, loss=0.2381\n",
            "Epoch 43/50, train set: loss=0.2190\n",
            "Epoch 43/50, test set: acc=90.48%, loss=0.2745\n",
            "Epoch 44/50, train set: loss=0.2383\n",
            "Epoch 44/50, test set: acc=92.86%, loss=0.1993\n",
            "Epoch 45/50, train set: loss=0.2145\n",
            "Epoch 45/50, test set: acc=94.22%, loss=0.1906\n",
            "Epoch 46/50, train set: loss=0.2198\n",
            "Epoch 46/50, test set: acc=93.20%, loss=0.2365\n",
            "Epoch 47/50, train set: loss=0.2211\n",
            "Epoch 47/50, test set: acc=91.84%, loss=0.2282\n",
            "Epoch 48/50, train set: loss=0.2106\n",
            "Epoch 48/50, test set: acc=93.20%, loss=0.2087\n",
            "Epoch 49/50, train set: loss=0.2305\n",
            "Epoch 49/50, test set: acc=93.88%, loss=0.1750\n",
            "Epoch 50/50, train set: loss=0.1940\n",
            "Epoch 50/50, test set: acc=93.54%, loss=0.2509\n"
          ]
        },
        {
          "output_type": "display_data",
          "data": {
            "text/plain": [
              "<Figure size 640x480 with 1 Axes>"
            ],
            "image/png": "[encoded data removed]"
          },
          "metadata": {}
        },
        {
          "output_type": "display_data",
          "data": {
            "text/plain": [
              "<Figure size 640x480 with 1 Axes>"
            ],
            "image/png": "[encoded data removed]"
          },
          "metadata": {}
        },
        {
          "output_type": "stream",
          "name": "stdout",
          "text": [
            "accuracy: 0.935374149659864\n"
          ]
        }
      ],
      "source": [
        "epochs = 50\n",
        "\n",
        "lr = 0.001\n",
        "momentum = 0.9\n",
        "weight_decay = 1e-3\n",
        "\n",
        "\n",
        "criterion = nn.CrossEntropyLoss()\n",
        "\n",
        "optimizer = torch.optim.Adam(\n",
        "    model.parameters(),\n",
        "    lr=lr,\n",
        "    weight_decay=weight_decay,\n",
        ")\n",
        "scheduler = torch.optim.lr_scheduler.StepLR(optimizer, step_size=25, gamma=0.1)\n",
        "\n",
        "model_accuracy = train(model, epochs, criterion, scheduler, train_loader, test_loader, device)\n",
        "\n",
        "print(f\"accuracy: {model_accuracy}\")"
      ]
    },
    {
      "cell_type": "markdown",
      "source": [
        "SimpleNet paper: [here](https://arxiv.org/pdf/1608.06037v8.pdf)\n",
        "\n",
        "SimpleNet code: [here](https://github.com/Coderx7/SimpleNet_Pytorch/tree/5d13ddbba6ae531ced26469c6b0f0ec18665d5ec)"
      ],
      "metadata": {
        "id": "zoOgdk-HLJlE"
      }
    },
    {
      "cell_type": "code",
      "source": [],
      "metadata": {
        "id": "jInxE0t_LBmw"
      },
      "execution_count": null,
      "outputs": []
    }
  ]
}